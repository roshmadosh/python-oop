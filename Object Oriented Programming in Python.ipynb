{
 "cells": [
  {
   "cell_type": "markdown",
   "id": "afb5cd4b",
   "metadata": {},
   "source": [
    "# Object-Oriented Programming (OOP) in Python"
   ]
  },
  {
   "cell_type": "markdown",
   "id": "34657d1b",
   "metadata": {},
   "source": [
    "---"
   ]
  },
  {
   "cell_type": "markdown",
   "id": "f5c03e49",
   "metadata": {},
   "source": [
    "## Basic Introduction"
   ]
  },
  {
   "cell_type": "markdown",
   "id": "4bcf44d1",
   "metadata": {},
   "source": [
    "### Classes"
   ]
  },
  {
   "cell_type": "markdown",
   "id": "753c7241",
   "metadata": {},
   "source": [
    "A **class** is a grouping of data and its related functions. A class is defined by giving it a name and declaring its data (called attributes, or **properties**) and functions  (called **methods**).\n",
    "\n",
    "An example of a class is `Square`.  \n",
    "\n",
    "A property of our `Square` class could be `side_length`.\n",
    "\n",
    "A method that acts on the `side_length` property could be `calculate_area()`.\n",
    "\n",
    "`Square` -> class  \n",
    "`side_length` -> property  \n",
    "`calculate_area` -> method"
   ]
  },
  {
   "cell_type": "markdown",
   "id": "9a543f99",
   "metadata": {},
   "source": [
    "We define a class in Python using the following syntax:"
   ]
  },
  {
   "cell_type": "code",
   "execution_count": 107,
   "id": "c210f34e",
   "metadata": {},
   "outputs": [],
   "source": [
    "class Square:\n",
    "    \n",
    "    side_length = 3\n",
    "    \n",
    "    def calculate_area(self):\n",
    "        return self.side_length * self.side_length"
   ]
  },
  {
   "cell_type": "markdown",
   "id": "2e7f51c9",
   "metadata": {},
   "source": [
    "The property `side_length` must be assigned some initial value (or _initialized_) in order for Python not to complain. But what if we want to define a `Square` class whose properties are not known ahead of time?   \n",
    "\n",
    "Defining a **constructor** method will allow `Square` to represent squares of arbitrary side length. The constructor can accept a parameter whose value will be assigned to the `side_length` property."
   ]
  },
  {
   "cell_type": "code",
   "execution_count": 108,
   "id": "de50b8fe",
   "metadata": {},
   "outputs": [],
   "source": [
    "class Square:\n",
    "    \n",
    "    # Our first constructor method!\n",
    "    def __init__(self, some_length):\n",
    "        \n",
    "        # this assigns the some_length argument to the side_length property\n",
    "        self.side_length = some_length\n",
    "        \n",
    "    def calculate_area(self):\n",
    "        \n",
    "        return self.side_length * self.side_length"
   ]
  },
  {
   "cell_type": "markdown",
   "id": "f700f0c9",
   "metadata": {},
   "source": [
    "Observe that initializing the `side_length` property now occurs within the constructor, and that this value can be _any_ value we pass as the argument to the constructor."
   ]
  },
  {
   "cell_type": "markdown",
   "id": "39eccd16",
   "metadata": {},
   "source": [
    "General things to remember about classes in Python:  \n",
    "\n",
    "- class constructors are defined using `__init__`.\n",
    "- (instance) class methods must always have `self` as its first parameter.\n",
    "- you refer to a class property from within a (instance) class method by saying `self.name_of_property`"
   ]
  },
  {
   "cell_type": "markdown",
   "id": "b8ce2303",
   "metadata": {},
   "source": [
    "### Objects"
   ]
  },
  {
   "cell_type": "markdown",
   "id": "1c7d812f",
   "metadata": {},
   "source": [
    "Calling the constructor of the `Square` class will create an _instance_ of `Square`, or a `Square` **object**."
   ]
  },
  {
   "cell_type": "code",
   "execution_count": 109,
   "id": "8082c78e",
   "metadata": {},
   "outputs": [],
   "source": [
    "# instantiating a square of length 3\n",
    "square1 = Square(3)\n",
    "\n",
    "# instantiating a square of length 5\n",
    "square2 = Square(5)"
   ]
  },
  {
   "cell_type": "markdown",
   "id": "6ff1b40a",
   "metadata": {},
   "source": [
    "Instantiating a `Square` object is how we tell the computer to reserve memory for the data of a specific square, as well as declaring what operations can be performed on that data.  \n",
    "\n",
    "If we ever want to read or update this data, we do so by calling the variable we _assigned_ the object to. From the example above, the variables are `square1` or `square2`."
   ]
  },
  {
   "cell_type": "code",
   "execution_count": 110,
   "id": "29d3bf7a",
   "metadata": {},
   "outputs": [
    {
     "data": {
      "text/plain": [
       "3"
      ]
     },
     "execution_count": 110,
     "metadata": {},
     "output_type": "execute_result"
    }
   ],
   "source": [
    "square1.side_length"
   ]
  },
  {
   "cell_type": "code",
   "execution_count": 111,
   "id": "6a3548f0",
   "metadata": {},
   "outputs": [
    {
     "data": {
      "text/plain": [
       "25"
      ]
     },
     "execution_count": 111,
     "metadata": {},
     "output_type": "execute_result"
    }
   ],
   "source": [
    "square2.calculate_area()"
   ]
  },
  {
   "cell_type": "markdown",
   "id": "9c9d5ce1",
   "metadata": {},
   "source": [
    "## OOP: What is it?"
   ]
  },
  {
   "cell_type": "markdown",
   "id": "d999148d",
   "metadata": {},
   "source": [
    "**Object Oriented Programming (OOP)** is often referred to as a programming _paradigm_ that makes use of objects. A programming paradigm is understood by the author to simply mean \"a way of programming.\""
   ]
  },
  {
   "cell_type": "markdown",
   "id": "af0ed9d3",
   "metadata": {},
   "source": [
    "There are also non-OOP programming paradigms, such as _procedural_ or _functional_ programming. A programming language is usually capable of doing some combination of the three, including Python."
   ]
  },
  {
   "cell_type": "markdown",
   "id": "8b1a6957",
   "metadata": {},
   "source": [
    "## The Four Pillars of OOP"
   ]
  },
  {
   "cell_type": "markdown",
   "id": "de0bb367",
   "metadata": {},
   "source": [
    "These are four well known concepts that are characteristic of an OOP language. Different sources will vary in how these concepts are defined, as the definitions tend to overlap with each other. The following definitions loosely follow Wikipedia's:"
   ]
  },
  {
   "cell_type": "markdown",
   "id": "7b32163d",
   "metadata": {},
   "source": [
    "### 1.  Abstraction"
   ]
  },
  {
   "cell_type": "markdown",
   "id": "6da39281",
   "metadata": {},
   "source": [
    "**Abstraction** is the concept of hiding the implementation details of a class from anything outside the class definition. This is usually achieved through the use of \"public\" methods to access or modify the \"private\" properties of any instance of the class."
   ]
  },
  {
   "cell_type": "markdown",
   "id": "2005a2a6",
   "metadata": {},
   "source": [
    "In other programming languages like C++ or Java, code will fail to compile if you try to call a property or method declared `private` from anywhere outside the class definition."
   ]
  },
  {
   "cell_type": "markdown",
   "id": "6b4e57fc",
   "metadata": {},
   "source": [
    "The Python documentation says that the name of private properties and methods should be prefixed with an underscore `_`, and that by convention such attributes and methods should be understood as things not intended for external use.  \n",
    "\n",
    "Keep in mind however that _**no error will be thrown if a private property or method is called outside its class**_. "
   ]
  },
  {
   "cell_type": "code",
   "execution_count": 112,
   "id": "40cb4e4a",
   "metadata": {},
   "outputs": [
    {
     "name": "stdout",
     "output_type": "stream",
     "text": [
      "Called from PRIVATE.\n",
      "Called from PUBLIC.\n",
      "Called from PRIVATE.\n"
     ]
    }
   ],
   "source": [
    "# define a class\n",
    "class MyClass:\n",
    "    \n",
    "    def my_public_method(self):\n",
    "        \n",
    "        self._my_private_method()\n",
    "        \n",
    "        print(\"Called from PUBLIC.\")\n",
    "    \n",
    "    def _my_private_method(self):\n",
    "        \n",
    "        print(\"Called from PRIVATE.\")\n",
    "    \n",
    "# instantiate the class\n",
    "my_class = MyClass()\n",
    "\n",
    "# calling a public method\n",
    "my_class.my_public_method()\n",
    "\n",
    "# calling a private method from outside the class definition won't throw an error\n",
    "my_class._my_private_method() "
   ]
  },
  {
   "cell_type": "markdown",
   "id": "c2c28dd6",
   "metadata": {},
   "source": [
    "Declaring properties or methods private \"by convention\" is still useful as they help with code organization.\n",
    "\n",
    "For example, private methods can be used to separate code that's being used repeatedly across several public methods.  \n",
    "\n",
    "Private methods also allow you to break up large public methods into smaller, task-specific blocks of code.\n"
   ]
  },
  {
   "cell_type": "markdown",
   "id": "ad976e24",
   "metadata": {},
   "source": [
    "### 2. Encapsulation"
   ]
  },
  {
   "cell_type": "markdown",
   "id": "cf1909f0",
   "metadata": {},
   "source": [
    "**Encapsulation** is the concept of keeping all related data and operations within a single class."
   ]
  },
  {
   "cell_type": "markdown",
   "id": "f65ccae2",
   "metadata": {},
   "source": [
    "Recall how you obtain the length of a `str` versus a `list` object in Python.  \n",
    "\n",
    "To do this you call `len(my_str)` or `len(my_list)`. But how does the Python interpreter know to perform a different set of operations when calling `len` on a `str` versus a `list`?  \n",
    "\n",
    "Turns out both `str` and `list` define a `__len__` property, each outlining their respective implementations."
   ]
  },
  {
   "cell_type": "code",
   "execution_count": 113,
   "id": "ac027561",
   "metadata": {},
   "outputs": [
    {
     "name": "stdout",
     "output_type": "stream",
     "text": [
      "True\n",
      "True\n"
     ]
    }
   ],
   "source": [
    "# confirm that the __len__ property is defined in both string and list classes\n",
    "\n",
    "print('__len__' in dir(str))\n",
    "print('__len__' in dir(list))"
   ]
  },
  {
   "cell_type": "markdown",
   "id": "5d8f3f67",
   "metadata": {},
   "source": [
    "Alternatively, consider how we would define a length function _without_ encapsulation. This global function `universal_length_function` would need to house the implementation for _every_ class we want to define a length operation."
   ]
  },
  {
   "cell_type": "code",
   "execution_count": 114,
   "id": "cef3d63b",
   "metadata": {},
   "outputs": [],
   "source": [
    "def universal_length_function(obj):\n",
    "    \n",
    "    # if the function argument is a string instance, do something\n",
    "    if isinstance(obj, str):\n",
    "        print('Example length of string')\n",
    "    \n",
    "     # if function argument is a list instance, do something else\n",
    "    elif isinstance(obj, list):\n",
    "        print('Example length of list')\n",
    "        \n",
    "    # ...you can see how this can get very long as we add more classes"
   ]
  },
  {
   "cell_type": "markdown",
   "id": "c4719875",
   "metadata": {},
   "source": [
    "Suppose we have these global functions for a variety of operations, such as `sum` or `count`. If we want to add or remove a class that can perform all these operations, we would have to update each and every global function definition.  \n",
    "\n",
    "If a relatively small update requires modifying code in many places, this is generally considered an indication of a poorly designed program or library. OOP seeks to avoid these kinds of design-related headaches."
   ]
  },
  {
   "cell_type": "markdown",
   "id": "90e1b37a",
   "metadata": {},
   "source": [
    "**Exercise 1**  \n",
    "\n",
    "**Part 1**: You're a programmer at Spotify working on a super-confidential feature that predicts user's purchase inclinations based on their playlists. You overhear your manager complaining about how the logs are written, and that the `print` statements for this feature are not color-coded.    \n",
    "\n",
    "You decide to take initiative and implement this feature. Create a `ColorPrinter` class that defines a `print` method, such that `color_printer.print('This is a success message', 'success')` prints the message in _green_ and\n",
    "`color_printer.print('This is an error message', 'error')` prints the message in _red_."
   ]
  },
  {
   "cell_type": "code",
   "execution_count": 115,
   "id": "c3b97d05",
   "metadata": {},
   "outputs": [],
   "source": [
    "# starter code\n",
    "class ColorPrinter:\n",
    "    \n",
    "    def __init__(self):\n",
    "        # Put these at the beginning and end of the content of your print statement\n",
    "        self._GREEN = '\\033[92m'\n",
    "        self._RED = '\\033[91m'\n",
    "        self._END = '\\033[0m'\n",
    "\n",
    "    # WRITE YOUR CODE HERE.\n"
   ]
  },
  {
   "cell_type": "markdown",
   "id": "e5d250e9",
   "metadata": {},
   "source": [
    "**Part 2**: How would you write the `ColorPrinter` class as a function (or as several functions in the `color_printer.py` module)? Why would this be better or worse?"
   ]
  },
  {
   "cell_type": "markdown",
   "id": "5fe72af6",
   "metadata": {},
   "source": [
    "**Extra Credit**: You've created your nifty `ColorPrinter` class and your whole team is excited to start using it to write more readable logs. But after a month, you realize the other programmers stopped using it. You ask why and they respond that they couldn't remember if the status argument was `\"Error\"` or `\"error\"` or `\"fail\"` or `\"red\"`, so they rage-quit and decided to go back to using plain old `print`.  \n",
    "\n",
    "How would you update your `ColorPrinter`'s `print` method to address this issue?\n",
    "\n",
    "_Hint_: One way is by having it so that  \n",
    "\n",
    "`color_printer.print('This is an error message', 'error')` is changed to  \n",
    "`color_printer.print('This is an error message', color_printer.StatusArgs.ERROR)`  \n",
    "\n",
    "where `StatusArgs` and `ERROR` can be accessed through autocomplete."
   ]
  },
  {
   "cell_type": "markdown",
   "id": "bfc66e95",
   "metadata": {},
   "source": [
    "### 3. Inheritance"
   ]
  },
  {
   "cell_type": "markdown",
   "id": "cce9a3f7",
   "metadata": {},
   "source": [
    "**Inheritance** is the concept of creating more specific _types_ of abstractions from more general ones, enabling code reuse."
   ]
  },
  {
   "cell_type": "markdown",
   "id": "3144e044",
   "metadata": {},
   "source": [
    "Suppose we want to define two distinct classes that share certain properties and methods. This is one way we can define them:"
   ]
  },
  {
   "cell_type": "code",
   "execution_count": 116,
   "id": "83f7f15a",
   "metadata": {},
   "outputs": [],
   "source": [
    "# NOT using inheritance\n",
    "\n",
    "class FirstClass:\n",
    "    \n",
    "    def __init__(self):\n",
    "        self.title = 'First'\n",
    "    \n",
    "    def print_awesome(self):\n",
    "        print(\"This is awesome\")\n",
    "        \n",
    "class SecondClass:\n",
    "    \n",
    "    def __init__(self):\n",
    "        self.title = 'Second'\n",
    "        \n",
    "    def print_awesome():\n",
    "        print(\"This is awesome\")"
   ]
  },
  {
   "cell_type": "markdown",
   "id": "407fb719",
   "metadata": {},
   "source": [
    "Both `FirstClass` and `SecondClass` have the `title` property and `print_awesome` method. The `print_awesome` method also shares the same implementation. This is an example of _code duplication_, a cardinal sin in programming.\n",
    "\n",
    "To avoid this, classes in Python can _inherit_ the properties and methods of other classes. This will allow us to write the duplicated code from our previous example just once."
   ]
  },
  {
   "cell_type": "code",
   "execution_count": 117,
   "id": "b8e5f829",
   "metadata": {},
   "outputs": [],
   "source": [
    "# The class containing shared code\n",
    "class ParentClass:\n",
    "    \n",
    "    def __init__(self, title=\"parent\"):\n",
    "        self.title = title\n",
    "        \n",
    "    def print_awesome(self):\n",
    "        print(\"This is awesome\")\n"
   ]
  },
  {
   "cell_type": "code",
   "execution_count": 118,
   "id": "3053fbfd",
   "metadata": {},
   "outputs": [],
   "source": [
    "# FirstClass and SecondClass inherit from ParentClass\n",
    "class FirstClass(ParentClass):\n",
    "    \n",
    "    def __init__(self):\n",
    "        super().__init__(\"First\")\n",
    "        \n",
    "class SecondClass(ParentClass):\n",
    "    \n",
    "    def __init__(self):\n",
    "        super().__init__(\"Second\")"
   ]
  },
  {
   "cell_type": "markdown",
   "id": "51f520e0",
   "metadata": {},
   "source": [
    "In Python, calling `super()` from a child class is how you access the properties and methods of a super class.  \n",
    "\n",
    "Calling `super().__init__(\"First\")` from inside a constructor is a way of saying \"replace this class' constructor with my parent's, and pass \"First\" as the argument to the `title` parameter. "
   ]
  },
  {
   "cell_type": "code",
   "execution_count": 119,
   "id": "ba9afcc1",
   "metadata": {},
   "outputs": [
    {
     "name": "stdout",
     "output_type": "stream",
     "text": [
      "First\n",
      "Second\n"
     ]
    }
   ],
   "source": [
    "# instantiate from the child classes\n",
    "first_class = FirstClass()\n",
    "second_class = SecondClass()\n",
    "\n",
    "# confirm the title property has been assigned the values we expect\n",
    "print(first_class.title)\n",
    "print(second_class.title)\n"
   ]
  },
  {
   "cell_type": "markdown",
   "id": "9f1508b1",
   "metadata": {},
   "source": [
    "Note that calling `super()` does not actually create an object of the parent class. It merely provides a short-hand syntax for copying a parent classes' properties and methods to a child class."
   ]
  },
  {
   "cell_type": "markdown",
   "id": "a6cb72c0",
   "metadata": {},
   "source": [
    "Observe also that even though the `print_awesome` method isn't defined in our child classes, we can still call them from `FirstClass` and `SecondClass` objects thanks to inheritance."
   ]
  },
  {
   "cell_type": "code",
   "execution_count": 120,
   "id": "c38e5082",
   "metadata": {},
   "outputs": [
    {
     "name": "stdout",
     "output_type": "stream",
     "text": [
      "This is awesome\n",
      "This is awesome\n"
     ]
    }
   ],
   "source": [
    "# confirm both child classes have inherited the print_awesome() method\n",
    "\n",
    "first_class.print_awesome()\n",
    "second_class.print_awesome()\n"
   ]
  },
  {
   "cell_type": "markdown",
   "id": "18786d8a",
   "metadata": {},
   "source": [
    "We'll see in the next session why we might call `super` from non-constructor methods."
   ]
  },
  {
   "cell_type": "markdown",
   "id": "2dd51c37",
   "metadata": {},
   "source": [
    "### Polymorphism"
   ]
  },
  {
   "cell_type": "markdown",
   "id": "103f5ba2",
   "metadata": {},
   "source": [
    "**Polymorphism** is the concept of allowing classes and their descendants to have methods that share the same name but perform different operations."
   ]
  },
  {
   "cell_type": "markdown",
   "id": "afdcd02a",
   "metadata": {},
   "source": [
    "Suppose we want to redefine a method inherited from a parent class in a child class. In Python and other programming languages, this is called _overriding_ a method.  \n",
    "\n",
    "We'll continue from our previous example and override the `print_awesome` method in `FirstClass` so that it prints an additional message."
   ]
  },
  {
   "cell_type": "code",
   "execution_count": 121,
   "id": "c6dd6d23",
   "metadata": {},
   "outputs": [],
   "source": [
    "# redefine FirstClass\n",
    "class FirstClass(ParentClass):\n",
    "    \n",
    "    def __init__(self):\n",
    "        super().__init__(\"A\")\n",
    "    \n",
    "    def print_awesome(self):\n",
    "        super().print_awesome()\n",
    "        print(\"This message is provided to you courtesy of a method override in FirstClass\")\n",
    "        "
   ]
  },
  {
   "cell_type": "code",
   "execution_count": 122,
   "id": "18432871",
   "metadata": {},
   "outputs": [
    {
     "name": "stdout",
     "output_type": "stream",
     "text": [
      "This is awesome\n",
      "This message is provided to you courtesy of a method override in FirstClass\n"
     ]
    }
   ],
   "source": [
    "# Verify that the print_awesome method has been overriden for FirstClass instances\n",
    "\n",
    "first_class = FirstClass()\n",
    "\n",
    "first_class.print_awesome()"
   ]
  },
  {
   "cell_type": "markdown",
   "id": "4eade789",
   "metadata": {},
   "source": [
    "The method override in `FirstClass` **does not** change the implementation of `print_awesome` in its parent or sibling classes."
   ]
  },
  {
   "cell_type": "code",
   "execution_count": 123,
   "id": "27dcd8cb",
   "metadata": {},
   "outputs": [
    {
     "name": "stdout",
     "output_type": "stream",
     "text": [
      "This is awesome\n"
     ]
    }
   ],
   "source": [
    "# Verify method override in FirstClass did not affect ParentClass\n",
    "\n",
    "parent_class = ParentClass()\n",
    "\n",
    "parent_class.print_awesome()"
   ]
  },
  {
   "cell_type": "markdown",
   "id": "174356c4",
   "metadata": {},
   "source": [
    "Method overriding offers code flexibility, which we will illustrate in the following example. \n",
    "\n",
    "Suppose we wanted to call the `print_awesome` method for each class, and that each class had their own unique implementations of the method.  \n",
    "\n",
    "Without polymorphism and method overriding, we would have to do things like this:"
   ]
  },
  {
   "cell_type": "code",
   "execution_count": 124,
   "id": "464e7442",
   "metadata": {},
   "outputs": [],
   "source": [
    "# WITHOUT method overriding\n",
    "\n",
    "class FirstClass(ParentClass):\n",
    "    def __init__(self):\n",
    "        super().__init__(\"A\")\n",
    "    \n",
    "    # different implementation means having to define a new method with a new name\n",
    "    def print_awesome_firstclass(self):\n",
    "        print(\"Awesome from FirstClass\")\n",
    "\n",
    "        \n",
    "class SecondClass(ParentClass):\n",
    "    def __init__(self):\n",
    "        super().__init__(\"B\")\n",
    "    \n",
    "    # same thing here\n",
    "    def print_awesome_secondclass(self):\n",
    "        print(\"Awesome from SecondClass\")\n",
    "        "
   ]
  },
  {
   "cell_type": "markdown",
   "id": "b7ffbd58",
   "metadata": {},
   "source": [
    "Since each method name is unique, we have to call them individually."
   ]
  },
  {
   "cell_type": "code",
   "execution_count": 125,
   "id": "0738cc90",
   "metadata": {},
   "outputs": [
    {
     "name": "stdout",
     "output_type": "stream",
     "text": [
      "This is awesome\n",
      "Awesome from FirstClass\n",
      "Awesome from SecondClass\n"
     ]
    }
   ],
   "source": [
    "# instantiate objects\n",
    "parent_class = ParentClass()\n",
    "first_class = FirstClass()\n",
    "second_class = SecondClass()\n",
    "\n",
    "# invoke respective print_awesome methods\n",
    "parent_class.print_awesome()\n",
    "first_class.print_awesome_firstclass()\n",
    "second_class.print_awesome_secondclass()\n"
   ]
  },
  {
   "cell_type": "markdown",
   "id": "5530aed6",
   "metadata": {},
   "source": [
    "Compare this to what we have below:"
   ]
  },
  {
   "cell_type": "code",
   "execution_count": 126,
   "id": "5c7ee73b",
   "metadata": {},
   "outputs": [],
   "source": [
    "# WITH method overriding\n",
    "\n",
    "class FirstClass(ParentClass):\n",
    "    def __init__(self):\n",
    "        super().__init__(\"A\")\n",
    "    \n",
    "    # method overriding means we can \"overwrite\" inherited methods and leave the names unchanged\n",
    "    def print_awesome(self):\n",
    "        print(\"Awesome from FirstClass\")\n",
    "\n",
    "        \n",
    "class SecondClass(ParentClass):\n",
    "    def __init__(self):\n",
    "        super().__init__(\"B\")\n",
    "    \n",
    "    # same thing here\n",
    "    def print_awesome(self):\n",
    "        print(\"Awesome from SecondClass\")\n",
    "        "
   ]
  },
  {
   "cell_type": "markdown",
   "id": "e3fba9ca",
   "metadata": {},
   "source": [
    "Now we can do the same thing, but with less code."
   ]
  },
  {
   "cell_type": "code",
   "execution_count": 127,
   "id": "7b4072af",
   "metadata": {},
   "outputs": [
    {
     "name": "stdout",
     "output_type": "stream",
     "text": [
      "This is awesome\n",
      "Awesome from FirstClass\n",
      "Awesome from SecondClass\n"
     ]
    }
   ],
   "source": [
    "# instantiate objects\n",
    "parent_class = ParentClass()\n",
    "first_class = FirstClass()\n",
    "second_class = SecondClass()\n",
    "\n",
    "# less code\n",
    "for cls in [parent_class, first_class, second_class]:\n",
    "    cls.print_awesome()\n"
   ]
  },
  {
   "cell_type": "markdown",
   "id": "f3321f86",
   "metadata": {},
   "source": [
    "If we had more child classes with their own unique `print_awesome` implementations, the effect of method overriding would be even more apparent."
   ]
  },
  {
   "cell_type": "markdown",
   "id": "283dd9c8",
   "metadata": {},
   "source": [
    "**Side Note**: Polymorphism is also often associated with the ability to assign objects of similar type to the same variable. An example in Java would look like\n",
    "\n",
    "    // assume Dog is a subclass of Animal\n",
    "    \n",
    "    Animal animal = new Animal()\n",
    "    Dog dog = new Dog()\n",
    "    \n",
    "    // polymorphism can refer to how the assignment below won't lead to a compilation error\n",
    "    \n",
    "    animal = dog\n",
    "    \n",
    "The reason we don't bring this up is because Python is dynamically typed. While Python _does_ have Type Hints, nothing will happen if you fail to adhere to the type declarations."
   ]
  },
  {
   "cell_type": "markdown",
   "id": "fe2649f4",
   "metadata": {},
   "source": [
    "**Exercise 2**\n",
    "\n",
    "OOP can be use for organizing logic that performs CRUD (create-read-update-delete) operations on a database. Each class can represent a table in a database, and while the  database operations you perform may vary depending on the table, they're likely going to share certain properties and operations.  \n",
    "\n",
    "You're now the DB admin for Spotify and was given the task of creating an API for their `users` database. Use the `DataAccessObject` parent class to create a child class `UserDAO` that performs CRUD operations on the `users` database."
   ]
  },
  {
   "cell_type": "code",
   "execution_count": 133,
   "id": "8c6b1e9c",
   "metadata": {},
   "outputs": [],
   "source": [
    "# Fill out the UserDAO class\n",
    "\n",
    "from sqlite3.dbapi2 import Connection\n",
    "from typing import List\n",
    "\n",
    "class DataAccessObject:\n",
    "    \n",
    "    # The connection parameter allows the same DB connection to be used across DAO objects.   \n",
    "    def __init__(self, connection: Connection):\n",
    "        \n",
    "        self.connection = connection\n",
    "        \n",
    "        # The cursor is what executes queries. \n",
    "        self.cursor = cursor\n",
    "    \n",
    "    # Below are the CRUD methods that will be overridden\n",
    "    \n",
    "    def create(self, name: str, password: str, email: str) -> None:\n",
    "        pass\n",
    "    \n",
    "    def read(self) -> List:\n",
    "        pass\n",
    "    \n",
    "    def update(self, name: str, **kwargs) -> None: \n",
    "        pass\n",
    "    \n",
    "    def delete(self, name: str) -> None:\n",
    "        pass\n",
    "    \n",
    "\n",
    "class UserDAO(DataAccessObject):\n",
    "    \n",
    "    # A call to super here means you have access to some useful properties...\n",
    "    def __init__(self, connection: Connection):\n",
    "        super().__init__(connection)\n",
    "\n",
    "\n",
    "    # Override CRUD methods here...\n",
    "    \n",
    "    "
   ]
  },
  {
   "cell_type": "markdown",
   "id": "11937f3b",
   "metadata": {},
   "source": [
    "To test your class definitions, run the cell below. The cell should execute without errors."
   ]
  },
  {
   "cell_type": "code",
   "execution_count": 142,
   "id": "d5df3480",
   "metadata": {},
   "outputs": [
    {
     "name": "stdout",
     "output_type": "stream",
     "text": [
      "After CREATE: [('joey', 'secret', 'awesome@email.com')]\n",
      "After UPDATE: [('joey', 'secret', 'updated_awesome@email.com')]\n",
      "After DELETE: []\n"
     ]
    }
   ],
   "source": [
    "# DO NOT MODIFY\n",
    "# If you get errors, try deleting oop.db before re-running this cell\n",
    "\n",
    "import sqlite3\n",
    "\n",
    "# Creates an oop.db file. The file will be saved in your jupyter root directory.\n",
    "connection = sqlite3.connect(\"./oop.db\")\n",
    "cursor = connection.cursor()\n",
    "\n",
    "# Create users table. Note that SQLite by default generates an ID field called 'rowid'\n",
    "cursor.execute(\"CREATE TABLE IF NOT EXISTS users ( \\\n",
    "    name VARCHAR(255) UNIQUE, \\\n",
    "    password VARCHAR(255), \\\n",
    "    email VARCHAR(255) \\\n",
    ")\")\n",
    "\n",
    "# instantiate data access object for the users table\n",
    "user_dao = UserDAO(connection)\n",
    "\n",
    "# create a user\n",
    "joey = {\"name\": \"joey\", \"password\":\"secret\", \"email\":\"awesome@email.com\"}\n",
    "user_dao.create(**joey)\n",
    "\n",
    "# confirm joey's in the database\n",
    "users = user_dao.read()\n",
    "assert users, 'users is empty. Check CREATE or READ definition.'\n",
    "assert ('joey', 'secret', 'awesome@email.com') in users, 'Your CREATE or READ definition failed' \n",
    "print('After CREATE:', users\n",
    "     )\n",
    "# update joey's email\n",
    "updated_info= {\"email\": \"updated_awesome@email.com\"}\n",
    "user_dao.update(name=\"joey\", **updated_info)\n",
    "\n",
    "# confirm update\n",
    "users = user_dao.read()\n",
    "assert ('joey', 'secret', 'updated_awesome@email.com') in users, 'Your UPDATE definition failed'\n",
    "print('After UPDATE:', users)\n",
    "\n",
    "# finally, delete joey\n",
    "user_dao.delete(\"joey\")\n",
    "\n",
    "# confirm delete\n",
    "users = user_dao.read()\n",
    "assert ('joey', 'secret', 'updated_awesome@email.com') not in users, 'Your DELETE definition failed.'\n",
    "print('After DELETE:', users)\n",
    "\n",
    "# close the DB connection\n",
    "connection.close()"
   ]
  },
  {
   "cell_type": "code",
   "execution_count": null,
   "id": "a9cda676",
   "metadata": {},
   "outputs": [],
   "source": []
  }
 ],
 "metadata": {
  "kernelspec": {
   "display_name": "Python 3 (ipykernel)",
   "language": "python",
   "name": "python3"
  },
  "language_info": {
   "codemirror_mode": {
    "name": "ipython",
    "version": 3
   },
   "file_extension": ".py",
   "mimetype": "text/x-python",
   "name": "python",
   "nbconvert_exporter": "python",
   "pygments_lexer": "ipython3",
   "version": "3.8.10"
  }
 },
 "nbformat": 4,
 "nbformat_minor": 5
}
